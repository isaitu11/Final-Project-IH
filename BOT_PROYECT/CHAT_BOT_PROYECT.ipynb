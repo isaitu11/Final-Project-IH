{
 "cells": [
  {
   "cell_type": "markdown",
   "metadata": {},
   "source": [
    "# CHAT-BOT ANALYSIS"
   ]
  },
  {
   "cell_type": "code",
   "execution_count": 1,
   "metadata": {},
   "outputs": [
    {
     "data": {
      "text/html": [
       "<div>\n",
       "<style scoped>\n",
       "    .dataframe tbody tr th:only-of-type {\n",
       "        vertical-align: middle;\n",
       "    }\n",
       "\n",
       "    .dataframe tbody tr th {\n",
       "        vertical-align: top;\n",
       "    }\n",
       "\n",
       "    .dataframe thead th {\n",
       "        text-align: right;\n",
       "    }\n",
       "</style>\n",
       "<table border=\"1\" class=\"dataframe\">\n",
       "  <thead>\n",
       "    <tr style=\"text-align: right;\">\n",
       "      <th></th>\n",
       "      <th>PREGUNTAS FRECUENTES</th>\n",
       "      <th>USUARIOS</th>\n",
       "      <th>FECHA</th>\n",
       "      <th>EDAD</th>\n",
       "    </tr>\n",
       "  </thead>\n",
       "  <tbody>\n",
       "    <tr>\n",
       "      <th>0</th>\n",
       "      <td>que significa ux?</td>\n",
       "      <td>usuario 1</td>\n",
       "      <td>15/10/19</td>\n",
       "      <td>18.0</td>\n",
       "    </tr>\n",
       "    <tr>\n",
       "      <th>1</th>\n",
       "      <td>me gustaria saber informacion sobre el bootcam...</td>\n",
       "      <td>usuario 2</td>\n",
       "      <td>15/10/19</td>\n",
       "      <td>22.0</td>\n",
       "    </tr>\n",
       "  </tbody>\n",
       "</table>\n",
       "</div>"
      ],
      "text/plain": [
       "                                PREGUNTAS FRECUENTES   USUARIOS     FECHA  \\\n",
       "0                                  que significa ux?  usuario 1  15/10/19   \n",
       "1  me gustaria saber informacion sobre el bootcam...  usuario 2  15/10/19   \n",
       "\n",
       "   EDAD  \n",
       "0  18.0  \n",
       "1  22.0  "
      ]
     },
     "execution_count": 1,
     "metadata": {},
     "output_type": "execute_result"
    }
   ],
   "source": [
    "# import libraries here\n",
    "import pandas as pd\n",
    "import numpy as np\n",
    "from nltk.corpus import stopwords\n",
    "import matplotlib.pyplot as plt\n",
    "import seaborn as sns\n",
    "%matplotlib inline\n",
    "\n",
    "# Leemos el csv\n",
    "chatbot=pd.read_csv('chatbot_usuarios.csv', sep=';', header=0,encoding = 'unicode_escape')\n",
    "chatbot.head(2)"
   ]
  },
  {
   "cell_type": "code",
   "execution_count": 2,
   "metadata": {},
   "outputs": [],
   "source": [
    "# Nos quedamos solo con los 14 usuarios (los demás se repiten)\n",
    "df_usuarios = chatbot[0:14][['USUARIOS','EDAD']]\n",
    "# Eliminamos la columna ['EDAD'] para rellenar las edades a continuación;\n",
    "df_chatbot = chatbot.drop(['EDAD'], axis=1)\n",
    "# Creamos la nueva versión ['EDAD'] completa\n",
    "chatbot = pd.merge(df_chatbot, df_usuarios,  how='left', left_on=['USUARIOS'], right_on = ['USUARIOS'])\n",
    "\n",
    "# Limpiamos tokenizando y agregando en una columna nueva los datos limpios\n",
    "from nltk import sent_tokenize, word_tokenize\n",
    "# Metemos cada frase en una lista tokenizada \n",
    "chatbot['PF_PALABRAS']=chatbot['PREGUNTAS FRECUENTES'].apply(word_tokenize)"
   ]
  },
  {
   "cell_type": "code",
   "execution_count": 3,
   "metadata": {},
   "outputs": [],
   "source": [
    "# Mediante la construcción de una función, limpiamos la nueva columna\n",
    "\n",
    "def clean_up(s):\n",
    "    \"\"\"\n",
    "    Cleans up numbers, URLs, and special characters from a string.\n",
    "\n",
    "    Args:\n",
    "        s: The string to be cleaned up.\n",
    "\n",
    "    Returns:\n",
    "        A string that has been cleaned up.\n",
    "    \"\"\"\n",
    "    import re\n",
    "    s = re.sub(\"http://ironhack.com\", ' ', s)\n",
    "    s = re.sub('\\d+', ' ', s)\n",
    "    s = re.sub('\\W+', ' ', s)\n",
    "    s = s.lower().strip()\n",
    "    return s"
   ]
  },
  {
   "cell_type": "code",
   "execution_count": 4,
   "metadata": {},
   "outputs": [],
   "source": [
    "# Aplicamos la función 'clean_up'\n",
    "chatbot['PF_PALABRAS']=chatbot['PREGUNTAS FRECUENTES'].apply(clean_up)"
   ]
  },
  {
   "cell_type": "code",
   "execution_count": 5,
   "metadata": {},
   "outputs": [],
   "source": [
    "# Creamos una función para tokenizar las siguientes columnas\n",
    "def tokenize(s):\n",
    "    \"\"\"\n",
    "    Tokenize a string.\n",
    "\n",
    "    Args:\n",
    "        s: String to be tokenized.\n",
    "\n",
    "    Returns:\n",
    "        A list of words as the result of tokenization.\n",
    "    \"\"\"\n",
    "    from nltk import word_tokenize\n",
    "    s = word_tokenize(s)\n",
    "    return s"
   ]
  },
  {
   "cell_type": "code",
   "execution_count": 6,
   "metadata": {},
   "outputs": [],
   "source": [
    "# Aplicamos la función 'tokenize'\n",
    "chatbot['PF_LISTA']=chatbot['PF_PALABRAS'].apply(tokenize)\n",
    "# Contamos el número de palabras del PREGUNTAS FRECUENTES.\n",
    "chatbot['word_count'] = chatbot['PF_LISTA'].apply(len)\n",
    "# Sacamos el número de stops words que hay en PREGUNTAS FRECUENTES marcando el idioma español.\n",
    "stop = stopwords.words('spanish')\n",
    "chatbot['stopwords'] = chatbot['PF_LISTA'].apply(lambda comment: len([word for word in comment if word in stop]))"
   ]
  },
  {
   "cell_type": "code",
   "execution_count": 7,
   "metadata": {},
   "outputs": [],
   "source": [
    "stop_words = ['a', 'con', 'de', 'desde', 'en', 'entre', 'hasta', 'para', 'por', 'sin', 'sobre', 'tras', 'via', 'me', 'mi', 'te', 'el', 'la','el', 'que','tipo','puedo','puede','ser']\n",
    "\n",
    "for pregunta in chatbot['PF_LISTA']:\n",
    "    for word in pregunta:\n",
    "        if word in stop: pregunta.remove(word)\n",
    "        elif word in stop_words: pregunta.remove(word)\n",
    "            "
   ]
  },
  {
   "cell_type": "code",
   "execution_count": 8,
   "metadata": {},
   "outputs": [
    {
     "data": {
      "text/plain": [
       "<matplotlib.axes._subplots.AxesSubplot at 0x12c7b8eb8>"
      ]
     },
     "execution_count": 8,
     "metadata": {},
     "output_type": "execute_result"
    },
    {
     "data": {
      "image/png": "[encoded data removed]",
      "text/plain": [
       "<Figure size 432x288 with 1 Axes>"
      ]
     },
     "metadata": {
      "needs_background": "light"
     },
     "output_type": "display_data"
    }
   ],
   "source": [
    "# Buscamos las palabras más frecuentes.\n",
    "freq = pd.Series(' '.join(\" \".join(comment) for comment in chatbot['PF_LISTA']).split(\" \")).value_counts()[:15]\n",
    "freq.plot()"
   ]
  },
  {
   "cell_type": "code",
   "execution_count": 9,
   "metadata": {},
   "outputs": [],
   "source": [
    "# Buscamos las palabras menos frecuentes.\n",
    "less_freq = pd.Series(' '.join(\" \".join(comment) for comment in chatbot['PF_LISTA']).split(\" \")).value_counts()[-10:]\n",
    "# Eliminamos las palabras menos frecuentes.\n",
    "less_freq_list = list(less_freq.index)\n",
    "chatbot['PF_LISTA'] = chatbot['PF_LISTA'].apply(lambda comment: [word for word in comment if word not in less_freq_list])"
   ]
  },
  {
   "cell_type": "code",
   "execution_count": 10,
   "metadata": {},
   "outputs": [
    {
     "data": {
      "image/png": "[encoded data removed]",
      "text/plain": [
       "<Figure size 432x288 with 1 Axes>"
      ]
     },
     "metadata": {
      "needs_background": "light"
     },
     "output_type": "display_data"
    }
   ],
   "source": [
    "# Creamos y descargamos una nube de palabras para poder analizar cuáles son las palabras más utilizadas.\n",
    "\n",
    "from wordcloud import WordCloud, STOPWORDS, ImageColorGenerator\n",
    "\n",
    "import matplotlib.pyplot as plt\n",
    "\n",
    "wordcloud = WordCloud(max_font_size=70, background_color=\"White\").generate(\" \".join(\" \".join(comment) for comment in chatbot['PF_LISTA']))\n",
    "plt.figure()\n",
    "plt.imshow(wordcloud, interpolation=\"bilinear\")\n",
    "plt.axis(\"off\")\n",
    "\n",
    "\n",
    "plt.savefig('nube.png')\n",
    "plt.show()"
   ]
  },
  {
   "cell_type": "code",
   "execution_count": 11,
   "metadata": {},
   "outputs": [],
   "source": [
    "# Creamos una lista con las palabras clave que queremos analizar\n",
    "\n",
    "keywords=['data','web','ux']\n",
    "\n",
    "def key_words(x):\n",
    "    new_list=[]\n",
    "    for word in x:\n",
    "        if word in keywords:\n",
    "            new_list.append(word)\n",
    "    return new_list"
   ]
  },
  {
   "cell_type": "code",
   "execution_count": 12,
   "metadata": {
    "scrolled": true
   },
   "outputs": [],
   "source": [
    "# Aislamos en una nueva lista las palabras clave\n",
    "chatbot['KEY_WORDS']=chatbot['PF_LISTA'].apply(key_words)\n",
    "# Mediante una función, pasamos la columna de 'KEY_WORDS' a strings, para su posterior análisis\n",
    "def key_words_string(x):\n",
    "    lista = []\n",
    "    for word in x:\n",
    "        if word in keywords:\n",
    "            return word"
   ]
  },
  {
   "cell_type": "code",
   "execution_count": 13,
   "metadata": {},
   "outputs": [],
   "source": [
    "# Aplicamos la función 'key_words_string' para extraer las palabras como 'strings'\n",
    "chatbot['KEY_WORDS_STR']=chatbot['PF_LISTA'].apply(key_words_string)\n",
    "# Contamos la cantidad de palabras clave que cada usuario ha mencionado para analizar el interés del bootcamp \n",
    "chatbot['key_count'] = np.where(chatbot['KEY_WORDS_STR'].isin(keywords), 1,0)\n",
    "# Rellenamos los campos con 'nada', donde no se ha preguntado sobre algún bootcamp en concreto\n",
    "#chatbot['KEY_WORDS_STR'] = chatbot['KEY_WORDS_STR'].fillna('Nada')"
   ]
  },
  {
   "cell_type": "code",
   "execution_count": 14,
   "metadata": {},
   "outputs": [
    {
     "data": {
      "text/plain": [
       "data    13\n",
       "web      9\n",
       "ux       8\n",
       "Name: KEY_WORDS_STR, dtype: int64"
      ]
     },
     "execution_count": 14,
     "metadata": {},
     "output_type": "execute_result"
    }
   ],
   "source": [
    "# Resultado de qué bootcamp se pregunta más \n",
    "sum_keywords = chatbot['KEY_WORDS_STR'].value_counts()\n",
    "sum_keywords"
   ]
  },
  {
   "cell_type": "code",
   "execution_count": 15,
   "metadata": {},
   "outputs": [
    {
     "data": {
      "text/plain": [
       "<matplotlib.axes._subplots.AxesSubplot at 0x12cf545f8>"
      ]
     },
     "execution_count": 15,
     "metadata": {},
     "output_type": "execute_result"
    },
    {
     "data": {
      "image/png": "[encoded data removed]",
      "text/plain": [
       "<Figure size 432x288 with 1 Axes>"
      ]
     },
     "metadata": {
      "needs_background": "light"
     },
     "output_type": "display_data"
    }
   ],
   "source": [
    "# Analizamos las edades\n",
    "menor_edad = chatbot['EDAD'].min() # 18\n",
    "mayor_edad = chatbot['EDAD'].max() # 35\n",
    "mean_edad = chatbot['EDAD'].mean() # 24.5\n",
    "# Sacamos el número de personas por edad\n",
    "sum_edad = chatbot['EDAD'].value_counts()\n",
    "# Gráfica que repesenta la cantidad de personas por edades\n",
    "chatbot['EDAD'].value_counts().plot(kind='bar')"
   ]
  },
  {
   "cell_type": "code",
   "execution_count": 16,
   "metadata": {},
   "outputs": [
    {
     "data": {
      "text/html": [
       "<div>\n",
       "<style scoped>\n",
       "    .dataframe tbody tr th:only-of-type {\n",
       "        vertical-align: middle;\n",
       "    }\n",
       "\n",
       "    .dataframe tbody tr th {\n",
       "        vertical-align: top;\n",
       "    }\n",
       "\n",
       "    .dataframe thead th {\n",
       "        text-align: right;\n",
       "    }\n",
       "</style>\n",
       "<table border=\"1\" class=\"dataframe\">\n",
       "  <thead>\n",
       "    <tr style=\"text-align: right;\">\n",
       "      <th></th>\n",
       "      <th>key_count</th>\n",
       "    </tr>\n",
       "    <tr>\n",
       "      <th>KEY_WORDS_STR</th>\n",
       "      <th></th>\n",
       "    </tr>\n",
       "  </thead>\n",
       "  <tbody>\n",
       "    <tr>\n",
       "      <th>data</th>\n",
       "      <td>13</td>\n",
       "    </tr>\n",
       "    <tr>\n",
       "      <th>ux</th>\n",
       "      <td>8</td>\n",
       "    </tr>\n",
       "    <tr>\n",
       "      <th>web</th>\n",
       "      <td>9</td>\n",
       "    </tr>\n",
       "  </tbody>\n",
       "</table>\n",
       "</div>"
      ],
      "text/plain": [
       "               key_count\n",
       "KEY_WORDS_STR           \n",
       "data                  13\n",
       "ux                     8\n",
       "web                    9"
      ]
     },
     "execution_count": 16,
     "metadata": {},
     "output_type": "execute_result"
    }
   ],
   "source": [
    "# Sacamos por cada usuario cuantas key words han mencionado\n",
    "# usuario_total_key = chatbot.groupby('USUARIOS').agg({'key_count' : 'sum',})\n",
    "# Resultado numérico sobre el bootcamp de más interés\n",
    "key_count_df = chatbot.groupby('KEY_WORDS_STR').agg({'key_count' : 'sum',})\n",
    "key_count_df"
   ]
  },
  {
   "cell_type": "code",
   "execution_count": 17,
   "metadata": {},
   "outputs": [
    {
     "data": {
      "text/plain": [
       "<matplotlib.axes._subplots.AxesSubplot at 0x12cffa358>"
      ]
     },
     "execution_count": 17,
     "metadata": {},
     "output_type": "execute_result"
    },
    {
     "data": {
      "image/png": "[encoded data removed]",
      "text/plain": [
       "<Figure size 432x288 with 1 Axes>"
      ]
     },
     "metadata": {
      "needs_background": "light"
     },
     "output_type": "display_data"
    }
   ],
   "source": [
    "chatbot['KEY_WORDS_STR'].value_counts().plot(kind='bar')"
   ]
  },
  {
   "cell_type": "code",
   "execution_count": 18,
   "metadata": {},
   "outputs": [
    {
     "data": {
      "text/plain": [
       "USUARIOS    KEY_WORDS_STR\n",
       "usuario 1   data             4\n",
       "            ux               2\n",
       "usuario 10  data             2\n",
       "            ux               2\n",
       "            web              1\n",
       "usuario 11  data             1\n",
       "usuario 13  data             1\n",
       "usuario 14  ux               4\n",
       "            web              1\n",
       "usuario 2   web              1\n",
       "usuario 3   data             4\n",
       "            web              4\n",
       "usuario 4   data             1\n",
       "usuario 5   web              1\n",
       "usuario 7   web              1\n",
       "Name: KEY_WORDS, dtype: int64"
      ]
     },
     "execution_count": 18,
     "metadata": {},
     "output_type": "execute_result"
    }
   ],
   "source": [
    "# Sacamos por cada usuario el bootcamp sobre el que se ha interesado\n",
    "\n",
    "usuario_key_count = chatbot.pivot_table(chatbot,index=['USUARIOS','KEY_WORDS_STR'], aggfunc='count')\n",
    "usuario_key_count['KEY_WORDS']"
   ]
  },
  {
   "cell_type": "code",
   "execution_count": 19,
   "metadata": {},
   "outputs": [
    {
     "data": {
      "text/html": [
       "<div>\n",
       "<style scoped>\n",
       "    .dataframe tbody tr th:only-of-type {\n",
       "        vertical-align: middle;\n",
       "    }\n",
       "\n",
       "    .dataframe tbody tr th {\n",
       "        vertical-align: top;\n",
       "    }\n",
       "\n",
       "    .dataframe thead th {\n",
       "        text-align: right;\n",
       "    }\n",
       "</style>\n",
       "<table border=\"1\" class=\"dataframe\">\n",
       "  <thead>\n",
       "    <tr style=\"text-align: right;\">\n",
       "      <th></th>\n",
       "      <th>USUARIOS</th>\n",
       "      <th>KEY_WORDS_STR</th>\n",
       "      <th>KEY_WORDS</th>\n",
       "    </tr>\n",
       "  </thead>\n",
       "  <tbody>\n",
       "    <tr>\n",
       "      <th>0</th>\n",
       "      <td>usuario 1</td>\n",
       "      <td>data</td>\n",
       "      <td>4</td>\n",
       "    </tr>\n",
       "    <tr>\n",
       "      <th>1</th>\n",
       "      <td>usuario 1</td>\n",
       "      <td>ux</td>\n",
       "      <td>2</td>\n",
       "    </tr>\n",
       "    <tr>\n",
       "      <th>2</th>\n",
       "      <td>usuario 10</td>\n",
       "      <td>data</td>\n",
       "      <td>2</td>\n",
       "    </tr>\n",
       "    <tr>\n",
       "      <th>3</th>\n",
       "      <td>usuario 10</td>\n",
       "      <td>ux</td>\n",
       "      <td>2</td>\n",
       "    </tr>\n",
       "    <tr>\n",
       "      <th>4</th>\n",
       "      <td>usuario 10</td>\n",
       "      <td>web</td>\n",
       "      <td>1</td>\n",
       "    </tr>\n",
       "    <tr>\n",
       "      <th>5</th>\n",
       "      <td>usuario 11</td>\n",
       "      <td>data</td>\n",
       "      <td>1</td>\n",
       "    </tr>\n",
       "    <tr>\n",
       "      <th>6</th>\n",
       "      <td>usuario 13</td>\n",
       "      <td>data</td>\n",
       "      <td>1</td>\n",
       "    </tr>\n",
       "    <tr>\n",
       "      <th>7</th>\n",
       "      <td>usuario 14</td>\n",
       "      <td>ux</td>\n",
       "      <td>4</td>\n",
       "    </tr>\n",
       "    <tr>\n",
       "      <th>8</th>\n",
       "      <td>usuario 14</td>\n",
       "      <td>web</td>\n",
       "      <td>1</td>\n",
       "    </tr>\n",
       "    <tr>\n",
       "      <th>9</th>\n",
       "      <td>usuario 2</td>\n",
       "      <td>web</td>\n",
       "      <td>1</td>\n",
       "    </tr>\n",
       "    <tr>\n",
       "      <th>10</th>\n",
       "      <td>usuario 3</td>\n",
       "      <td>data</td>\n",
       "      <td>4</td>\n",
       "    </tr>\n",
       "    <tr>\n",
       "      <th>11</th>\n",
       "      <td>usuario 3</td>\n",
       "      <td>web</td>\n",
       "      <td>4</td>\n",
       "    </tr>\n",
       "    <tr>\n",
       "      <th>12</th>\n",
       "      <td>usuario 4</td>\n",
       "      <td>data</td>\n",
       "      <td>1</td>\n",
       "    </tr>\n",
       "    <tr>\n",
       "      <th>13</th>\n",
       "      <td>usuario 5</td>\n",
       "      <td>web</td>\n",
       "      <td>1</td>\n",
       "    </tr>\n",
       "    <tr>\n",
       "      <th>14</th>\n",
       "      <td>usuario 7</td>\n",
       "      <td>web</td>\n",
       "      <td>1</td>\n",
       "    </tr>\n",
       "  </tbody>\n",
       "</table>\n",
       "</div>"
      ],
      "text/plain": [
       "      USUARIOS KEY_WORDS_STR  KEY_WORDS\n",
       "0    usuario 1          data          4\n",
       "1    usuario 1            ux          2\n",
       "2   usuario 10          data          2\n",
       "3   usuario 10            ux          2\n",
       "4   usuario 10           web          1\n",
       "5   usuario 11          data          1\n",
       "6   usuario 13          data          1\n",
       "7   usuario 14            ux          4\n",
       "8   usuario 14           web          1\n",
       "9    usuario 2           web          1\n",
       "10   usuario 3          data          4\n",
       "11   usuario 3           web          4\n",
       "12   usuario 4          data          1\n",
       "13   usuario 5           web          1\n",
       "14   usuario 7           web          1"
      ]
     },
     "execution_count": 19,
     "metadata": {},
     "output_type": "execute_result"
    }
   ],
   "source": [
    "usuario_key_word = usuario_key_count['KEY_WORDS'].reset_index()\n",
    "usuario_bootcamp = pd.DataFrame(usuario_key_word)\n",
    "usuario_bootcamp"
   ]
  },
  {
   "cell_type": "code",
   "execution_count": 20,
   "metadata": {},
   "outputs": [],
   "source": [
    "#Descargamos el CSV con nuestro Data Frame.\n",
    "#chatbot.to_csv('chatbot_analysis.csv')"
   ]
  }
 ],
 "metadata": {
  "kernelspec": {
   "display_name": "Python 3",
   "language": "python",
   "name": "python3"
  },
  "language_info": {
   "codemirror_mode": {
    "name": "ipython",
    "version": 3
   },
   "file_extension": ".py",
   "mimetype": "text/x-python",
   "name": "python",
   "nbconvert_exporter": "python",
   "pygments_lexer": "ipython3",
   "version": "3.7.3"
  }
 },
 "nbformat": 4,
 "nbformat_minor": 2
}
